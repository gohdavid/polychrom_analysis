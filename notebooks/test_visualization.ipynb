{
 "cells": [
  {
   "cell_type": "markdown",
   "id": "eb89566b",
   "metadata": {},
   "source": [
    "# Testing polychrom visualization"
   ]
  },
  {
   "cell_type": "code",
   "execution_count": 1,
   "id": "112f8939",
   "metadata": {},
   "outputs": [
    {
     "name": "stdout",
     "output_type": "stream",
     "text": [
      "/home/gridsan/lchan/git-remotes/polychrom_analysis\n"
     ]
    }
   ],
   "source": [
    "%cd /home/gridsan/lchan/git-remotes/polychrom_analysis"
   ]
  },
  {
   "cell_type": "code",
   "execution_count": 2,
   "id": "4fa089e4",
   "metadata": {},
   "outputs": [
    {
     "data": {
      "application/vnd.jupyter.widget-view+json": {
       "model_id": "ec1617edc621493780b8926305ea1d58",
       "version_major": 2,
       "version_minor": 0
      },
      "text/plain": []
     },
     "metadata": {},
     "output_type": "display_data"
    }
   ],
   "source": [
    "import nglutils as ngu\n",
    "import nglview as nv"
   ]
  },
  {
   "cell_type": "code",
   "execution_count": 3,
   "id": "e12bd195",
   "metadata": {},
   "outputs": [],
   "source": [
    "import os\n",
    "import sys\n",
    "from pathlib import Path\n",
    "import numpy as np\n",
    "import scipy as sp\n",
    "\n",
    "import polychrom\n",
    "from polychrom.hdf5_format import list_URIs, load_URI, load_hdf5_file\n",
    "\n",
    "from post_processing.visualization import *"
   ]
  },
  {
   "cell_type": "code",
   "execution_count": 4,
   "id": "a9576095",
   "metadata": {},
   "outputs": [],
   "source": [
    "%load_ext autoreload"
   ]
  },
  {
   "cell_type": "code",
   "execution_count": null,
   "id": "b1a3dfe9",
   "metadata": {},
   "outputs": [],
   "source": [
    "%autoreload 2"
   ]
  },
  {
   "cell_type": "markdown",
   "id": "c6d65ee9",
   "metadata": {},
   "source": [
    "## Visualize simulation snapshots"
   ]
  },
  {
   "cell_type": "code",
   "execution_count": 24,
   "id": "50ae4412",
   "metadata": {},
   "outputs": [
    {
     "name": "stdout",
     "output_type": "stream",
     "text": [
      "(260400, 3)\n"
     ]
    },
    {
     "data": {
      "application/vnd.jupyter.widget-view+json": {
       "model_id": "d742bcdcb20d4dc690e2f245ce5a9c55",
       "version_major": 2,
       "version_minor": 0
      },
      "text/plain": [
       "NGLWidget()"
      ]
     },
     "metadata": {},
     "output_type": "display_data"
    }
   ],
   "source": [
    "#test snapshot visualization - by monomer id\n",
    "confs = np.load('/home/gridsan/lchan/git-remotes/polychrom_analysis/data/conformations/simple1_logclustered/stickyBB_0.3_act2.npy')\n",
    "X = load_URI(confs[440])['pos'] # get last position\n",
    "#X = np.random.rand(len(ids), 3)\n",
    "print(X.shape)\n",
    "visualize(X, 200, ids=ids, color_by=\"monomer_id\", chrom = 6)"
   ]
  },
  {
   "cell_type": "code",
   "execution_count": 9,
   "id": "83ef82da",
   "metadata": {},
   "outputs": [
    {
     "data": {
      "application/vnd.jupyter.widget-view+json": {
       "model_id": "8270916101774950baab83469115c1de",
       "version_major": 2,
       "version_minor": 0
      },
      "text/plain": [
       "NGLWidget()"
      ]
     },
     "metadata": {},
     "output_type": "display_data"
    }
   ],
   "source": [
    "#by chain ID\n",
    "visualize(X, 20, ids=ids, color_by=\"chrom_id\")"
   ]
  },
  {
   "cell_type": "code",
   "execution_count": 10,
   "id": "03b562d1",
   "metadata": {},
   "outputs": [
    {
     "data": {
      "application/vnd.jupyter.widget-view+json": {
       "model_id": "6d2906f08592471397ed4de9ec74f15f",
       "version_major": 2,
       "version_minor": 0
      },
      "text/plain": [
       "NGLWidget()"
      ]
     },
     "metadata": {},
     "output_type": "display_data"
    }
   ],
   "source": [
    "#just a single chromosome\n",
    "visualize(X, 20, ids=ids, chrom=19, color_by=\"chrom_id\")"
   ]
  },
  {
   "cell_type": "code",
   "execution_count": 10,
   "id": "71ca115e",
   "metadata": {},
   "outputs": [
    {
     "data": {
      "application/vnd.jupyter.widget-view+json": {
       "model_id": "0a76234c621f469f83d8c0228837ed94",
       "version_major": 2,
       "version_minor": 0
      },
      "text/plain": [
       "NGLWidget()"
      ]
     },
     "metadata": {},
     "output_type": "display_data"
    }
   ],
   "source": [
    "#just a single chromosome\n",
    "visualize(X, 20, ids=ids, chrom=19, color_by=\"monomer_id\")"
   ]
  },
  {
   "cell_type": "markdown",
   "id": "1a519c21",
   "metadata": {},
   "source": [
    "## Make animations"
   ]
  },
  {
   "cell_type": "code",
   "execution_count": 6,
   "id": "e5bd8c2b",
   "metadata": {},
   "outputs": [
    {
     "name": "stdout",
     "output_type": "stream",
     "text": [
      "CPU times: user 2.15 s, sys: 1.1 s, total: 3.25 s\n",
      "Wall time: 13.6 s\n"
     ]
    },
    {
     "data": {
      "application/vnd.jupyter.widget-view+json": {
       "model_id": "8757d0cea6b74b1e88245c0eccd3136e",
       "version_major": 2,
       "version_minor": 0
      },
      "text/plain": [
       "NGLWidget(max_frame=55)"
      ]
     },
     "metadata": {},
     "output_type": "display_data"
    }
   ],
   "source": [
    "%%time\n",
    "ABids = np.loadtxt(\"data/ABidentities_chr21_Su2020_2perlocus.csv\", dtype=str)\n",
    "ids = (ABids == \"A\").astype(int)\n",
    "chromo = 'normal_logclustered'\n",
    "param = 'stickyBB_0.075_act4'\n",
    "simdir = Path(f\"/home/gridsan/lchan/git-remotes/polychrom_analysis/artificial_chr/{chromo}/{param}/runs1_0_200copies\")\n",
    "Y = extract_trajectory(simdir, start=0, end=1100, every_other=20) \n",
    "visualize(Y, 200, ids=ids, color_by=\"monomer_id\", chrom = 3)"
   ]
  },
  {
   "cell_type": "markdown",
   "id": "3b1dfb50",
   "metadata": {},
   "source": [
    "# Test import of other polychrom_analysis modules"
   ]
  }
 ],
 "metadata": {
  "kernelspec": {
   "display_name": "polyvis",
   "language": "python",
   "name": "python3"
  },
  "language_info": {
   "codemirror_mode": {
    "name": "ipython",
    "version": 3
   },
   "file_extension": ".py",
   "mimetype": "text/x-python",
   "name": "python",
   "nbconvert_exporter": "python",
   "pygments_lexer": "ipython3",
   "version": "3.9.18"
  }
 },
 "nbformat": 4,
 "nbformat_minor": 5
}
